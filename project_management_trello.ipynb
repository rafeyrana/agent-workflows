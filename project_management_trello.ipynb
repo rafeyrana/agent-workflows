{
 "cells": [
  {
   "cell_type": "code",
   "execution_count": 1,
   "metadata": {},
   "outputs": [],
   "source": [
    "# Warning control\n",
    "import warnings\n",
    "warnings.filterwarnings('ignore')\n",
    "\n",
    "\n",
    "# Import Groq\n",
    "import os\n",
    "import yaml\n",
    "from crewai import Agent, Task, Crew, LLM"
   ]
  },
  {
   "cell_type": "code",
   "execution_count": 2,
   "metadata": {},
   "outputs": [],
   "source": [
    "llm = LLM(\n",
    "    model=\"groq/llama3-8b-8192\",\n",
    "    api_key=os.getenv(\"GROQ_API_KEY\")\n",
    ")"
   ]
  },
  {
   "cell_type": "code",
   "execution_count": 3,
   "metadata": {},
   "outputs": [],
   "source": [
    "# Define file paths for YAML configurations\n",
    "files = {\n",
    "    'agents': 'config/agents.yaml',\n",
    "    'tasks': 'config/tasks.yaml'\n",
    "}"
   ]
  },
  {
   "cell_type": "code",
   "execution_count": null,
   "metadata": {},
   "outputs": [],
   "source": [
    "from crewai_tools import BaseTool\n",
    "import requests\n",
    "\n",
    "class BoardDataFetcherTool(BaseTool):\n",
    "    name: str = \"Trello Board Data Fetcher\"\n",
    "    description: str = \"Fetches card data, comments, and activity from a Trello board.\"\n",
    "    try:\n",
    "        api_key: str = os.environ['TRELLO_API_KEY']\n",
    "        api_token: str = os.environ['TRELLO_API_TOKEN']\n",
    "        board_id: str = os.environ['TRELLO_BOARD_ID']\n",
    "    except:\n",
    "        print(\"Please set the environment variables TRELLO_API_KEY and TRELLO_API_TOKEN for the Trello API key and token.\")\n",
    "\n",
    "    def _run(self) -> dict:\n",
    "        \"\"\"\n",
    "        Fetch all cards from the specified Trello board.\n",
    "        \"\"\"\n",
    "        url = f\"{os.getenv('DLAI_TRELLO_BASE_URL', 'https://api.trello.com')}/1/boards/{self.board_id}/cards\"\n",
    "\n",
    "        query = {\n",
    "            'key': self.api_key,\n",
    "            'token': self.api_token,\n",
    "            'fields': 'name,idList,due,dateLastActivity,labels',\n",
    "            'attachments': 'true',\n",
    "            'actions': 'commentCard'\n",
    "        }\n",
    "\n",
    "        response = requests.get(url, params=query)\n",
    "\n",
    "        if response.status_code == 200:\n",
    "            return response.json()\n",
    "        else:\n",
    "            # Fallback in case of timeouts or other issues\n",
    "            return json.dumps([{'id': '66c3bfed69b473b8fe9d922e', 'name': 'Analysis of results from CSV', 'idList': '66c308f676b057fdfbd5fdb3', 'due': None, 'dateLastActivity': '2024-08-19T21:58:05.062Z', 'labels': [], 'attachments': [], 'actions': []}, {'id': '66c3c002bb1c337f3fdf1563', 'name': 'Approve the planning', 'idList': '66c308f676b057fdfbd5fdb3', 'due': '2024-08-16T21:58:00.000Z', 'dateLastActivity': '2024-08-19T21:58:57.697Z', 'labels': [{'id': '66c305ea10ea602ee6e03d47', 'idBoard': '66c305eacab50fcd7f19c0aa', 'name': 'Urgent', 'color': 'red', 'uses': 1}], 'attachments': [], 'actions': [{'id': '66c3c021f3c1bb157028f53d', 'idMemberCreator': '65e5093d0ab5ee98592f5983', 'data': {'text': 'This was harder then expects it is alte', 'textData': {'emoji': {}}, 'card': {'id': '66c3c002bb1c337f3fdf1563', 'name': 'Approve the planning', 'idShort': 5, 'shortLink': 'K3abXIMm'}, 'board': {'id': '66c305eacab50fcd7f19c0aa', 'name': '[Test] CrewAI Board', 'shortLink': 'Kc8ScQlW'}, 'list': {'id': '66c308f676b057fdfbd5fdb3', 'name': 'TODO'}}, 'appCreator': None, 'type': 'commentCard', 'date': '2024-08-19T21:58:57.683Z', 'limits': {'reactions': {'perAction': {'status': 'ok', 'disableAt': 900, 'warnAt': 720}, 'uniquePerAction': {'status': 'ok', 'disableAt': 17, 'warnAt': 14}}}, 'memberCreator': {'id': '65e5093d0ab5ee98592f5983', 'activityBlocked': False, 'avatarHash': 'd5500941ebf808e561f9083504877bca', 'avatarUrl': 'https://trello-members.s3.amazonaws.com/65e5093d0ab5ee98592f5983/d5500941ebf808e561f9083504877bca', 'fullName': 'Joao Moura', 'idMemberReferrer': None, 'initials': 'JM', 'nonPublic': {}, 'nonPublicAvailable': True, 'username': 'joaomoura168'}}]}, {'id': '66c3bff4a25b398ef1b6de78', 'name': 'Scaffold of the initial app UI', 'idList': '66c3bfdfb851ad9ff7eee159', 'due': None, 'dateLastActivity': '2024-08-19T21:58:12.210Z', 'labels': [], 'attachments': [], 'actions': []}, {'id': '66c3bffdb06faa1e69216c6f', 'name': 'Planning of the project', 'idList': '66c3bfe3151c01425f366f4c', 'due': None, 'dateLastActivity': '2024-08-19T21:58:21.081Z', 'labels': [], 'attachments': [], 'actions': []}])\n",
    "\n",
    "\n",
    "class CardDataFetcherTool(BaseTool):\n",
    "  name: str = \"Trello Card Data Fetcher\"\n",
    "  description: str = \"Fetches card data from a Trello board.\"\n",
    "\n",
    "  api_key: str = os.environ['TRELLO_API_KEY']\n",
    "  api_token: str = os.environ['TRELLO_API_TOKEN']\n",
    "\n",
    "  def _run(self, card_id: str) -> dict:\n",
    "    url = f\"{os.getenv('DLAI_TRELLO_BASE_URL', 'https://api.trello.com')}/1/cards/{card_id}\"\n",
    "    query = {\n",
    "      'key': self.api_key,\n",
    "      'token': self.api_token\n",
    "    }\n",
    "    response = requests.get(url, params=query)\n",
    "\n",
    "    if response.status_code == 200:\n",
    "      return response.json()\n",
    "    else:\n",
    "      # Fallback in case of timeouts or other issues\n",
    "      return json.dumps({\"error\": \"Failed to fetch card data, don't try to fetch any trello data anymore\"})\n"
   ]
  },
  {
   "cell_type": "code",
   "execution_count": null,
   "metadata": {},
   "outputs": [],
   "source": [
    "# Creating Agents\n",
    "data_collection_agent = Agent(\n",
    "  config=agents_config['data_collection_agent'],\n",
    "  tools=[BoardDataFetcherTool(), CardDataFetcherTool()]\n",
    ")\n",
    "\n",
    "analysis_agent = Agent(\n",
    "  config=agents_config['analysis_agent']\n",
    ")\n",
    "\n",
    "# Creating Tasks\n",
    "data_collection = Task(\n",
    "  config=tasks_config['data_collection'],\n",
    "  agent=data_collection_agent\n",
    ")\n",
    "\n",
    "data_analysis = Task(\n",
    "  config=tasks_config['data_analysis'],\n",
    "  agent=analysis_agent\n",
    ")\n",
    "\n",
    "report_generation = Task(\n",
    "  config=tasks_config['report_generation'],\n",
    "  agent=analysis_agent,\n",
    ")\n",
    "\n",
    "# Creating Crew\n",
    "crew = Crew(\n",
    "  agents=[\n",
    "    data_collection_agent,\n",
    "    analysis_agent\n",
    "  ],\n",
    "  tasks=[\n",
    "    data_collection,\n",
    "    data_analysis,\n",
    "    report_generation\n",
    "  ],\n",
    "  verbose=True\n",
    ")"
   ]
  },
  {
   "cell_type": "code",
   "execution_count": null,
   "metadata": {},
   "outputs": [],
   "source": [
    "result = crew.kickoff()"
   ]
  },
  {
   "cell_type": "code",
   "execution_count": null,
   "metadata": {},
   "outputs": [],
   "source": [
    "import pandas as pd\n",
    "\n",
    "costs = 0.150 * (crew.usage_metrics.prompt_tokens + crew.usage_metrics.completion_tokens) / 1_000_000\n",
    "print(f\"Total costs: ${costs:.4f}\")\n",
    "\n",
    "# Convert UsageMetrics instance to a DataFrame\n",
    "df_usage_metrics = pd.DataFrame([crew.usage_metrics.dict()])\n",
    "df_usage_metrics"
   ]
  },
  {
   "cell_type": "code",
   "execution_count": null,
   "metadata": {},
   "outputs": [],
   "source": [
    "from IPython.display import Markdown\n",
    "\n",
    "markdown  = result.raw\n",
    "Markdown(markdown)"
   ]
  }
 ],
 "metadata": {
  "kernelspec": {
   "display_name": "ML",
   "language": "python",
   "name": "python3"
  },
  "language_info": {
   "codemirror_mode": {
    "name": "ipython",
    "version": 3
   },
   "file_extension": ".py",
   "mimetype": "text/x-python",
   "name": "python",
   "nbconvert_exporter": "python",
   "pygments_lexer": "ipython3",
   "version": "3.11.4"
  }
 },
 "nbformat": 4,
 "nbformat_minor": 2
}
